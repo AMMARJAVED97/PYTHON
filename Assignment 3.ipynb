{
 "cells": [
  {
   "cell_type": "markdown",
   "id": "05dcc9f8",
   "metadata": {},
   "source": [
    "# Roll no JP10664 Assignment 3 "
   ]
  },
  {
   "cell_type": "code",
   "execution_count": 1,
   "id": "6c9155ef",
   "metadata": {},
   "outputs": [
    {
     "name": "stdout",
     "output_type": "stream",
     "text": [
      "Twinkle,twinkle ,little star,\n",
      "        How i wonder what you are! \n",
      "              up above the world so high, \n",
      "              like a diamond in the sky,\n",
      " Twinkle,twinkle ,little star,\n",
      "         How i wonder what you are \n",
      "   \n"
     ]
    }
   ],
   "source": [
    " # 1. Write a Python program to print the following string in a specific format (see the\n",
    " # output).\n",
    "\n",
    "print(\"Twinkle,twinkle ,little star,\\n        How i wonder what you are! \\n              up above the world so high, \\n              like a diamond in the sky,\\n Twinkle,twinkle ,little star,\\n         How i wonder what you are \\n   \")"
   ]
  },
  {
   "cell_type": "code",
   "execution_count": 47,
   "id": "21ea4504",
   "metadata": {},
   "outputs": [
    {
     "name": "stdout",
     "output_type": "stream",
     "text": [
      "3.8.8\n"
     ]
    }
   ],
   "source": [
    "# 2. Write a Python program to get the Python version you are using\n",
    "\n",
    "from platform import python_version\n",
    "\n",
    "print(python_version())"
   ]
  },
  {
   "cell_type": "code",
   "execution_count": 61,
   "id": "6b632e3d",
   "metadata": {},
   "outputs": [
    {
     "name": "stdout",
     "output_type": "stream",
     "text": [
      "Current date and time : \n",
      "2021-10-22 09:30:56\n"
     ]
    }
   ],
   "source": [
    "# 3. Write a Python program to display the current date and time.\n",
    "\n",
    "from datetime import datetime\n",
    "now = datetime.now()\n",
    "print (\"Current date and time : \")\n",
    "print (now.strftime(\"%Y-%m-%d %H:%M:%S\"))"
   ]
  },
  {
   "cell_type": "code",
   "execution_count": 63,
   "id": "60f067e4",
   "metadata": {},
   "outputs": [
    {
     "name": "stdout",
     "output_type": "stream",
     "text": [
      "Enter radius of circle : 20\n",
      "Area of the circle is: 1256.6370614359173m^2\n"
     ]
    }
   ],
   "source": [
    "# 4. Write a Python program which accepts the radius of a circle from the user and compute\n",
    "# the area.\n",
    "\n",
    "from math import pi\n",
    "\n",
    "r = float(input (\"Enter radius of circle : \"))\n",
    "\n",
    "print (\"Area of the circle is: \" + str(pi * r**2)+ \"m@\")"
   ]
  },
  {
   "cell_type": "code",
   "execution_count": 1,
   "id": "3e2bed13",
   "metadata": {},
   "outputs": [
    {
     "name": "stdout",
     "output_type": "stream",
     "text": [
      "Input your First Name : ammar\n",
      "Input your Last Name : javed\n",
      "Hello  javed ammar\n"
     ]
    }
   ],
   "source": [
    "# 5. Write a Python program which accepts the user's first and last name and print them in\n",
    "# reverse order with a space between them.\n",
    "\n",
    "fname = input(\"Input your First Name : \")\n",
    "lname = input(\"Input your Last Name : \")\n",
    "print (\"Hello  \" + lname + \" \" + fname)\n"
   ]
  },
  {
   "cell_type": "code",
   "execution_count": 4,
   "id": "72c40e50",
   "metadata": {},
   "outputs": [
    {
     "name": "stdout",
     "output_type": "stream",
     "text": [
      "Enter your first nummber 1\n",
      "Enter your second number 2\n",
      "The sum is 3\n"
     ]
    }
   ],
   "source": [
    "# 6. Write a python program which takes two inputs from user and print them addition\n",
    "\n",
    "x=int(input(\"Enter your first nummber \"));\n",
    "y=int(input(\"Enter your second number \"));\n",
    "print(\"The sum is \" +str(x+y))"
   ]
  },
  {
   "cell_type": "code",
   "execution_count": 10,
   "id": "e87f4720",
   "metadata": {},
   "outputs": [
    {
     "name": "stdout",
     "output_type": "stream",
     "text": [
      "Enter Your English marks 70\n",
      "Enter Your Isl marks 70\n",
      "Enter Your Maths marks 70\n",
      "Enter Your Chem marks 70\n",
      "Enter Your Physics marks 70\n",
      "You have got 70.0% With Grade A\n"
     ]
    }
   ],
   "source": [
    "# 7. Write a program which takes 5 inputs from user for different subject’s marks, total it\n",
    "# and generate mark sheet using grades ?\n",
    "\n",
    "Eng=float(input(\"Enter Your English marks \"));\n",
    "Isl =float(input(\"Enter Your Isl marks \"));\n",
    "Maths=float(input(\"Enter Your Maths marks \"));\n",
    "Chem=float(input(\"Enter Your Chem marks \"));\n",
    "Phy=float(input(\"Enter Your Physics marks \"))\n",
    "stdTotal=Eng+Isl+Maths+Chem+Phy;\n",
    "Total=500;\n",
    "percentage=(stdTotal/Total*100);\n",
    "limited=round(percentage,2)\n",
    "\n",
    "\n",
    "if percentage <= 100 and percentage >= 90:\n",
    "    print(\"You have got \" +str(limited)+\"%\"+ \" With Grade A+\" ); \n",
    "elif percentage < 90 and percentage >=80:\n",
    "       print(\"You have got \" +str(limited)+\"%\"+\" With Grade A-one\");\n",
    "elif percentage <80 and percentage >= 70:\n",
    "    print(\"You have got \" +str(limited)+\"%\"+ \" With Grade A\");\n",
    "elif percentage < 70 and percentage>= 60:\n",
    "    print(\"You have got \" +str(limited)+\"%\"+\" With Grade B\");\n",
    "else:\n",
    "    print(\"Fail\");\n",
    "    \n",
    "    "
   ]
  },
  {
   "cell_type": "code",
   "execution_count": 33,
   "id": "6142d868",
   "metadata": {},
   "outputs": [
    {
     "name": "stdout",
     "output_type": "stream",
     "text": [
      "Enter your  nummber 7\n",
      "Your Given Number Is Odd\n"
     ]
    }
   ],
   "source": [
    "# 8. Write a program which take input from user and identify that the given number is even\n",
    "# or odd?\n",
    "\n",
    "x=int(input(\"Enter your  nummber \"));\n",
    "if x%2==0:\n",
    "     print(\"Youtr Given Nummber is Even\");\n",
    "else:\n",
    "     print(\"Your Given Number Is Odd\");\n"
   ]
  },
  {
   "cell_type": "code",
   "execution_count": 34,
   "id": "0c5a9293",
   "metadata": {},
   "outputs": [
    {
     "name": "stdout",
     "output_type": "stream",
     "text": [
      "Number of items in the list =  6\n"
     ]
    }
   ],
   "source": [
    "# 9. Write a program which print the length of the list?\n",
    "\n",
    "ListName = [\"Hello\", \"Ammar\",\"Javed\", 1, 2, 3]\n",
    "print (\"Number of items in the list = \", len(ListName))"
   ]
  },
  {
   "cell_type": "code",
   "execution_count": 37,
   "id": "fd0e1cba",
   "metadata": {},
   "outputs": [
    {
     "name": "stdout",
     "output_type": "stream",
     "text": [
      "2\n"
     ]
    }
   ],
   "source": [
    "# 10.Write a Python program to sum all the numeric items in a list?\n",
    "\n",
    "def sum_list(items):\n",
    "    sum_numbers = 0\n",
    "    for x in items:\n",
    "        sum_numbers += x\n",
    "    return sum_numbers\n",
    "print(sum_list([1,7,-2,-4]))\n"
   ]
  },
  {
   "cell_type": "code",
   "execution_count": 40,
   "id": "c9b9fce1",
   "metadata": {},
   "outputs": [
    {
     "name": "stdout",
     "output_type": "stream",
     "text": [
      "19\n"
     ]
    }
   ],
   "source": [
    "# 11.Write a Python program to get the largest number from a numeric list.\n",
    "\n",
    "def max_num_in_list( list ):\n",
    "    max = list[ 0 ]\n",
    "    for a in list:\n",
    "        if a > max:\n",
    "            max = a\n",
    "    return max\n",
    "print(max_num_in_list([1, 19, -2 ,10]))\n"
   ]
  },
  {
   "cell_type": "code",
   "execution_count": 46,
   "id": "4a9add89",
   "metadata": {},
   "outputs": [
    {
     "name": "stdout",
     "output_type": "stream",
     "text": [
      "[1, 1, 2, 3]\n"
     ]
    }
   ],
   "source": [
    "# 12. Take a list, say for example this one:\n",
    "# a = [1, 1, 2, 3, 5, 8, 13, 21, 34, 55, 89]\n",
    "# Write a program that prints out all the elements of the list that are less than 5.\n",
    "\n",
    "def a(l): \n",
    "    l1=[] \n",
    "    for i in l: \n",
    "        if i<5: \n",
    "            l1.append(i) \n",
    "             \n",
    "    return(l1) \n",
    "     \n",
    "print(a([1, 1, 2, 3, 5, 8, 13, 21, 34, 55, 89])) "
   ]
  },
  {
   "cell_type": "code",
   "execution_count": null,
   "id": "3f67b039",
   "metadata": {},
   "outputs": [],
   "source": []
  },
  {
   "cell_type": "code",
   "execution_count": null,
   "id": "96104b4d",
   "metadata": {},
   "outputs": [],
   "source": []
  }
 ],
 "metadata": {
  "kernelspec": {
   "display_name": "Python 3",
   "language": "python",
   "name": "python3"
  },
  "language_info": {
   "codemirror_mode": {
    "name": "ipython",
    "version": 3
   },
   "file_extension": ".py",
   "mimetype": "text/x-python",
   "name": "python",
   "nbconvert_exporter": "python",
   "pygments_lexer": "ipython3",
   "version": "3.8.8"
  }
 },
 "nbformat": 4,
 "nbformat_minor": 5
}
